{
 "cells": [
  {
   "cell_type": "code",
   "execution_count": 5,
   "metadata": {
    "id": "pbArtTpKHR35"
   },
   "outputs": [],
   "source": [
    "import pandas as pd\n",
    "import numpy as np\n",
    "import cvxpy as cp"
   ]
  },
  {
   "cell_type": "markdown",
   "metadata": {},
   "source": [
    "### Load data"
   ]
  },
  {
   "cell_type": "code",
   "execution_count": 6,
   "metadata": {
    "colab": {
     "base_uri": "https://localhost:8080/"
    },
    "id": "BJBhJLi2HU4o",
    "outputId": "b0faba84-21f9-4425-f8a6-ed9ea648eda7"
   },
   "outputs": [
    {
     "name": "stdout",
     "output_type": "stream",
     "text": [
      "  Course Name  Course Section    Days   Start Time     End Time  \\\n",
      "0   MATH 2568         27178.0  MoWeFr   8:00:00 AM   8:55:00 AM   \n",
      "1   MATH 2568         27181.0  MoWeFr  11:30:00 AM  12:25:00 PM   \n",
      "2   MATH 2568         27182.0  MoWeFr  12:40:00 PM   1:35:00 PM   \n",
      "3   MATH 2568         27183.0  MoWeFr   1:50:00 PM   2:45:00 PM   \n",
      "4   MATH 2568         27184.0  MoWeFr  12:40:00 PM   1:35:00 PM   \n",
      "\n",
      "              Instructor  Instructor Rating  Unit Is GE 2nd Level Writing?  \\\n",
      "0  Esteban Vargas Bernal                4.6   3.0                    False   \n",
      "1             Liding Yao                1.5   3.0                    False   \n",
      "2             Liding Yao                1.5   3.0                    False   \n",
      "3            Luis Casian                2.9   3.0                    False   \n",
      "4        Arman Darbinyan                1.0   3.0                    False   \n",
      "\n",
      "  Is GE Cultures and Ideas?  \n",
      "0                     False  \n",
      "1                     False  \n",
      "2                     False  \n",
      "3                     False  \n",
      "4                     False  \n"
     ]
    }
   ],
   "source": [
    "data = pd.read_csv(r'Course_Instructor.csv') # the last two boolean var. columns are False even when afctually missing\n",
    "\n",
    "# Drop rows with missing values in the first 8 columns\n",
    "data = data.dropna(subset=data.columns[:8], how='all')\n",
    "\n",
    "print(data.head())"
   ]
  },
  {
   "cell_type": "code",
   "execution_count": 7,
   "metadata": {
    "colab": {
     "base_uri": "https://localhost:8080/",
     "height": 414
    },
    "id": "B7PDLGVoS0Tr",
    "outputId": "701c15a7-c2af-46bb-f7b3-28ee671d0c7e"
   },
   "outputs": [
    {
     "data": {
      "text/html": [
       "<div>\n",
       "<style scoped>\n",
       "    .dataframe tbody tr th:only-of-type {\n",
       "        vertical-align: middle;\n",
       "    }\n",
       "\n",
       "    .dataframe tbody tr th {\n",
       "        vertical-align: top;\n",
       "    }\n",
       "\n",
       "    .dataframe thead th {\n",
       "        text-align: right;\n",
       "    }\n",
       "</style>\n",
       "<table border=\"1\" class=\"dataframe\">\n",
       "  <thead>\n",
       "    <tr style=\"text-align: right;\">\n",
       "      <th></th>\n",
       "      <th>Course Name, Section</th>\n",
       "      <th>Start, End</th>\n",
       "      <th>isDay</th>\n",
       "      <th>Instructor</th>\n",
       "      <th>Ins Rating</th>\n",
       "      <th>Unit</th>\n",
       "      <th>Is 2nd Lvl W</th>\n",
       "      <th>Is CI</th>\n",
       "    </tr>\n",
       "  </thead>\n",
       "  <tbody>\n",
       "    <tr>\n",
       "      <th>0</th>\n",
       "      <td>(MATH 2568, 27178)</td>\n",
       "      <td>(800, 910)</td>\n",
       "      <td>(True, False, True, False, True)</td>\n",
       "      <td>Esteban Vargas Bernal</td>\n",
       "      <td>4.6</td>\n",
       "      <td>3.0</td>\n",
       "      <td>False</td>\n",
       "      <td>False</td>\n",
       "    </tr>\n",
       "    <tr>\n",
       "      <th>1</th>\n",
       "      <td>(MATH 2568, 27181)</td>\n",
       "      <td>(1130, 1240)</td>\n",
       "      <td>(True, False, True, False, True)</td>\n",
       "      <td>Liding Yao</td>\n",
       "      <td>1.5</td>\n",
       "      <td>3.0</td>\n",
       "      <td>False</td>\n",
       "      <td>False</td>\n",
       "    </tr>\n",
       "    <tr>\n",
       "      <th>2</th>\n",
       "      <td>(MATH 2568, 27182)</td>\n",
       "      <td>(1240, 1350)</td>\n",
       "      <td>(True, False, True, False, True)</td>\n",
       "      <td>Liding Yao</td>\n",
       "      <td>1.5</td>\n",
       "      <td>3.0</td>\n",
       "      <td>False</td>\n",
       "      <td>False</td>\n",
       "    </tr>\n",
       "    <tr>\n",
       "      <th>3</th>\n",
       "      <td>(MATH 2568, 27183)</td>\n",
       "      <td>(1350, 1500)</td>\n",
       "      <td>(True, False, True, False, True)</td>\n",
       "      <td>Luis Casian</td>\n",
       "      <td>2.9</td>\n",
       "      <td>3.0</td>\n",
       "      <td>False</td>\n",
       "      <td>False</td>\n",
       "    </tr>\n",
       "    <tr>\n",
       "      <th>4</th>\n",
       "      <td>(MATH 2568, 27184)</td>\n",
       "      <td>(1240, 1350)</td>\n",
       "      <td>(True, False, True, False, True)</td>\n",
       "      <td>Arman Darbinyan</td>\n",
       "      <td>1.0</td>\n",
       "      <td>3.0</td>\n",
       "      <td>False</td>\n",
       "      <td>False</td>\n",
       "    </tr>\n",
       "  </tbody>\n",
       "</table>\n",
       "</div>"
      ],
      "text/plain": [
       "  Course Name, Section    Start, End                             isDay  \\\n",
       "0   (MATH 2568, 27178)    (800, 910)  (True, False, True, False, True)   \n",
       "1   (MATH 2568, 27181)  (1130, 1240)  (True, False, True, False, True)   \n",
       "2   (MATH 2568, 27182)  (1240, 1350)  (True, False, True, False, True)   \n",
       "3   (MATH 2568, 27183)  (1350, 1500)  (True, False, True, False, True)   \n",
       "4   (MATH 2568, 27184)  (1240, 1350)  (True, False, True, False, True)   \n",
       "\n",
       "              Instructor  Ins Rating  Unit  Is 2nd Lvl W  Is CI  \n",
       "0  Esteban Vargas Bernal         4.6   3.0         False  False  \n",
       "1             Liding Yao         1.5   3.0         False  False  \n",
       "2             Liding Yao         1.5   3.0         False  False  \n",
       "3            Luis Casian         2.9   3.0         False  False  \n",
       "4        Arman Darbinyan         1.0   3.0         False  False  "
      ]
     },
     "execution_count": 7,
     "metadata": {},
     "output_type": "execute_result"
    }
   ],
   "source": [
    "nrow = len(data)\n",
    "ncol = len(data.columns)\n",
    "clean = pd.DataFrame(columns =('Course Name, Section', 'Start, End', 'isDay', 'Instructor', 'Ins Rating', 'Unit', 'Is 2nd Lvl W', 'Is CI'))\n",
    "clean.head()\n",
    "\n",
    "def time_to_integer(time_str):\n",
    "    return int(time_str.replace(':', '')) # convert time to interger military time for convinience\n",
    "\n",
    "for index, row in data.iterrows():\n",
    "    combined_days = row['Days']\n",
    "    start_time = time_to_integer(pd.to_datetime(row['Start Time']).strftime('%H:%M'))  # Convert to integer\n",
    "    end_time = time_to_integer((pd.to_datetime(row['End Time']) + pd.Timedelta(minutes=15)).strftime('%H:%M'))  # Add 15 minutes and convert to integer\n",
    "\n",
    "    is_monday = 'Mo' in combined_days\n",
    "    is_tuesday = 'Tu' in combined_days\n",
    "    is_wednesday = 'We' in combined_days\n",
    "    is_thursday = 'Th' in combined_days\n",
    "    is_friday = 'Fr' in combined_days\n",
    "\n",
    "    clean.loc[len(clean.index)] = [(row['Course Name'], str(int(row['Course Section']))), (start_time, end_time), (is_monday, is_tuesday, is_wednesday, is_thursday, is_friday), row['Instructor'], row['Instructor Rating'], row['Unit'], row['Is GE 2nd Level Writing?'], row['Is GE Cultures and Ideas?']]\n",
    "\n",
    "clean.fillna(0, inplace=True)\n",
    "clean.head()"
   ]
  },
  {
   "cell_type": "markdown",
   "metadata": {},
   "source": [
    "### Process data and create helper function"
   ]
  },
  {
   "cell_type": "code",
   "execution_count": 8,
   "metadata": {
    "id": "0ytkJX-o3OXU"
   },
   "outputs": [],
   "source": [
    "course_sections = {}\n",
    "\n",
    "for course, section in clean['Course Name, Section']:\n",
    "    if course not in course_sections:\n",
    "        course_sections[course] = []\n",
    "    course_sections[course].append(section)"
   ]
  },
  {
   "cell_type": "code",
   "execution_count": 9,
   "metadata": {
    "colab": {
     "base_uri": "https://localhost:8080/"
    },
    "id": "3YhfyV9658R3",
    "outputId": "4fd215ca-627a-44e2-a9c7-9d0826ccc81d",
    "scrolled": true
   },
   "outputs": [
    {
     "data": {
      "text/plain": [
       "{(0, 0): ('MATH 2568', '27178'),\n",
       " (0, 1): ('MATH 2568', '27181'),\n",
       " (0, 2): ('MATH 2568', '27182'),\n",
       " (0, 3): ('MATH 2568', '27183'),\n",
       " (0, 4): ('MATH 2568', '27184'),\n",
       " (0, 5): ('MATH 2568', '27185'),\n",
       " (1, 0): ('STAT 3202', '27866'),\n",
       " (1, 1): ('STAT 3202', '27902'),\n",
       " (1, 2): ('STAT 3202', '20935'),\n",
       " (1, 3): ('STAT 3202', '29400'),\n",
       " (1, 4): ('STAT 3202', '36981'),\n",
       " (1, 5): ('STAT 3202', '27253'),\n",
       " (1, 6): ('STAT 3202', '27254'),\n",
       " (1, 7): ('STAT 3202', '27256'),\n",
       " (2, 0): ('CSE 2421', '6973'),\n",
       " (2, 1): ('CSE 2421', '7009'),\n",
       " (2, 2): ('CSE 2421', '7085'),\n",
       " (2, 3): ('CSE 2421', '7239'),\n",
       " (2, 4): ('CSE 2421', '7327'),\n",
       " (2, 5): ('CSE 2421', '11915'),\n",
       " (2, 6): ('CSE 2421', '12387'),\n",
       " (2, 7): ('CSE 2421', '36975'),\n",
       " (3, 0): ('CSE 3430', '7104'),\n",
       " (3, 1): ('CSE 3430', '7333'),\n",
       " (4, 0): ('ARTEDUC 2700', '17849'),\n",
       " (4, 1): ('ARTEDUC 2700', '17850'),\n",
       " (4, 2): ('ARTEDUC 2700', '17852'),\n",
       " (5, 0): ('PHR 2367.01', '17021'),\n",
       " (5, 1): ('PHR 2367.01', '17168'),\n",
       " (6, 0): ('ENGR 2367', '8154'),\n",
       " (6, 1): ('ENGR 2367', '8158'),\n",
       " (6, 2): ('ENGR 2367', '8159'),\n",
       " (6, 3): ('ENGR 2367', '8238'),\n",
       " (7, 0): ('SASIA 3625', '11'),\n",
       " (8, 0): ('CLASS 2201', '10'),\n",
       " (9, 0): ('ANTHR 1100', '10'),\n",
       " (9, 1): ('ANTHR 1100', '20')}"
      ]
     },
     "execution_count": 9,
     "metadata": {},
     "output_type": "execute_result"
    }
   ],
   "source": [
    "# Indices for each class\n",
    "course_section_map = {(course, section): (i, j) for i, (course, sections) in enumerate(course_sections.items()) for j, section in enumerate(sections)}\n",
    "get_course_section_map = {value: key for key, value in course_section_map.items()}\n",
    "get_course_section_map"
   ]
  },
  {
   "cell_type": "code",
   "execution_count": 10,
   "metadata": {
    "id": "P6Jb_gbw6LiG"
   },
   "outputs": [],
   "source": [
    "num_courses = len(course_sections)\n",
    "max_sections = max(len(sections) for sections in course_sections.values())\n",
    "\n",
    "# X_{i, j} - i = # course; j = # section\n",
    "X = cp.Variable((num_courses, max_sections), boolean=True)"
   ]
  },
  {
   "cell_type": "code",
   "execution_count": 11,
   "metadata": {
    "id": "6HmVf3EPKFg8"
   },
   "outputs": [],
   "source": [
    "instructor_ratings = np.zeros((num_courses, max_sections))\n",
    "course_units = np.zeros((num_courses, max_sections))\n",
    "\n",
    "for i in range(num_courses):\n",
    "    for j in range(max_sections):\n",
    "        course_selection = get_course_section_map.get((i, j))\n",
    "        if course_selection is not None:\n",
    "            row = clean.loc[clean[\"Course Name, Section\"] == course_selection]\n",
    "            rating = row['Ins Rating']\n",
    "            unit = row['Unit']\n",
    "            if rating is not None:\n",
    "                instructor_ratings[i, j] = rating\n",
    "            if unit is not None:\n",
    "                course_units[i, j] = unit\n"
   ]
  },
  {
   "cell_type": "code",
   "execution_count": 12,
   "metadata": {
    "id": "ggX9nKvUdq3m"
   },
   "outputs": [],
   "source": [
    "which_2ndlvl = []\n",
    "writings = clean.loc[clean['Is 2nd Lvl W']==True]['Course Name, Section'].tolist()\n",
    "for writing in writings:\n",
    "    which_2ndlvl.append(course_section_map[writing])\n",
    "\n",
    "which_CI = []\n",
    "CIs = clean.loc[clean['Is CI']==True]['Course Name, Section'].tolist()\n",
    "for CI in CIs:\n",
    "    which_CI.append(course_section_map[CI])\n",
    "\n",
    "which_s3202_lec = []\n",
    "stat_3202 = clean[clean['Course Name, Section'].apply(lambda x: x[0]) == 'STAT 3202']\n",
    "s3202_lecs = stat_3202[stat_3202['Unit']==4]['Course Name, Section']\n",
    "for s3202_lec in s3202_lecs:\n",
    "    which_s3202_lec.append(course_section_map[s3202_lec])\n",
    "\n",
    "which_s3202_rec = []\n",
    "s3202_recs = stat_3202[stat_3202['Unit']==0]['Course Name, Section']\n",
    "for s3202_rec in s3202_recs:\n",
    "    which_s3202_rec.append(course_section_map[s3202_rec])"
   ]
  },
  {
   "cell_type": "code",
   "execution_count": 13,
   "metadata": {},
   "outputs": [],
   "source": [
    "def check_timing_clash(class_a_timing, class_b_timing):\n",
    "    start_a, end_a = class_a_timing\n",
    "    start_b, end_b = class_b_timing\n",
    "\n",
    "\n",
    "    # Check if there's a clash between class_a and class_b timings\n",
    "    if start_a < end_b and start_b < end_a:\n",
    "        return True  # There's a clash\n",
    "    else:\n",
    "        return False  # No clash"
   ]
  },
  {
   "cell_type": "markdown",
   "metadata": {},
   "source": [
    "### Optimization programming"
   ]
  },
  {
   "cell_type": "code",
   "execution_count": 14,
   "metadata": {
    "id": "tUp-S1e_6vGi"
   },
   "outputs": [],
   "source": [
    "# Objective: Indicator * Ratings\n",
    "obj_func = cp.sum(cp.multiply(X, instructor_ratings))"
   ]
  },
  {
   "cell_type": "code",
   "execution_count": 15,
   "metadata": {
    "id": "PS6U0HvPBYOn"
   },
   "outputs": [],
   "source": [
    "# Constraints\n",
    "constraints = []"
   ]
  },
  {
   "cell_type": "code",
   "execution_count": 16,
   "metadata": {
    "id": "cMYSMqzkBnLt"
   },
   "outputs": [],
   "source": [
    "# Ignore all variables not in the course_section map (If not in the list, set equal to zero)\n",
    "for i in range(num_courses):\n",
    "    for j in range(max_sections):\n",
    "        if (i, j) not in set(val for val in course_section_map.values()):\n",
    "            constraints.append(X[i, j] == 0)\n",
    "\n",
    "# Constraints on credit hour\n",
    "constraints.append(cp.sum([X[i, j] for i, j in which_2ndlvl]) == 1) # one 2nd Lvl Writing course required\n",
    "constraints.append(cp.sum([X[i, j] for i, j in which_CI]) == 1) # one Cult. & Ideas courses required\n",
    "constraints.append(cp.sum(X[0,:]) == 1) # one M2568 required\n",
    "constraints.append(cp.sum(X[1,:]) == 2) # one S3202 (lec + rec) required\n",
    "constraints.append(cp.sum(X[2,:]+X[3,:]) == 1) # either one C2421 or C3430 required\n",
    "# one lecture and one recitation for stat3202\n",
    "constraints.append(cp.sum([X[i, j] for i, j in which_s3202_rec]) + cp.sum([X[i, j] for i, j in which_s3202_lec]) == 2)\n",
    "\n",
    "# min and max credit hour limits for a full time student\n",
    "constraints.append(cp.sum(cp.multiply(X, course_units)) <= 18)\n",
    "constraints.append(cp.sum(cp.multiply(X, course_units)) >= 12)\n"
   ]
  },
  {
   "cell_type": "code",
   "execution_count": 17,
   "metadata": {},
   "outputs": [],
   "source": [
    "# Add constraints to ensure potential timing clashes between classes on shared days\n",
    "for i, class_a in clean.iterrows():\n",
    "    for j, class_b in clean.iterrows():\n",
    "        if i != j:  # Ensure different classes\n",
    "            common_days = set(class_a['isDay']) & set(class_b['isDay'])  # Find common days\n",
    "            if common_days:  # If classes share at least one common day\n",
    "                for day in common_days:\n",
    "                    if check_timing_clash(class_a['Start, End'], class_b['Start, End']):\n",
    "                        # Replace course_section_map[(class_a['Course Name, Section'])] with the respective index\n",
    "                        constraints.append(X[course_section_map[class_a['Course Name, Section']]] +\n",
    "                                           X[course_section_map[class_b['Course Name, Section']]] <= 1)"
   ]
  },
  {
   "cell_type": "code",
   "execution_count": 18,
   "metadata": {
    "colab": {
     "base_uri": "https://localhost:8080/",
     "height": 595
    },
    "id": "LYmjwzEzDK2u",
    "outputId": "b2394ee0-db14-4938-c21d-e71de9788c29"
   },
   "outputs": [
    {
     "name": "stdout",
     "output_type": "stream",
     "text": [
      "===============================================================================\n",
      "                                     CVXPY                                     \n",
      "                                    v1.1.18                                    \n",
      "===============================================================================\n",
      "(CVXPY) Nov 29 06:02:31 PM: Your problem has 80 variables, 603 constraints, and 0 parameters.\n",
      "(CVXPY) Nov 29 06:02:31 PM: It is compliant with the following grammars: DCP, DQCP\n",
      "(CVXPY) Nov 29 06:02:31 PM: (If you need to solve this problem multiple times, but with different data, consider using parameters.)\n",
      "(CVXPY) Nov 29 06:02:31 PM: CVXPY will first compile your problem; then, it will invoke a numerical solver to obtain a solution.\n",
      "-------------------------------------------------------------------------------\n",
      "                                  Compilation                                  \n",
      "-------------------------------------------------------------------------------\n",
      "(CVXPY) Nov 29 06:02:31 PM: Compiling problem (target solver=GUROBI).\n",
      "(CVXPY) Nov 29 06:02:31 PM: Reduction chain: FlipObjective -> CvxAttr2Constr -> Qp2SymbolicQp -> QpMatrixStuffing -> GUROBI\n",
      "(CVXPY) Nov 29 06:02:31 PM: Applying reduction FlipObjective\n",
      "(CVXPY) Nov 29 06:02:31 PM: Applying reduction CvxAttr2Constr\n",
      "(CVXPY) Nov 29 06:02:31 PM: Applying reduction Qp2SymbolicQp\n",
      "(CVXPY) Nov 29 06:02:31 PM: Applying reduction QpMatrixStuffing\n",
      "(CVXPY) Nov 29 06:02:31 PM: Applying reduction GUROBI\n",
      "(CVXPY) Nov 29 06:02:31 PM: Finished problem compilation (took 4.322e-01 seconds).\n",
      "-------------------------------------------------------------------------------\n",
      "                                Numerical solver                               \n",
      "-------------------------------------------------------------------------------\n",
      "(CVXPY) Nov 29 06:02:31 PM: Invoking solver GUROBI  to obtain a solution.\n",
      "Restricted license - for non-production use only - expires 2024-10-28\n",
      "Set parameter QCPDual to value 1\n",
      "Gurobi Optimizer version 10.0.2 build v10.0.2rc0 (win64)\n",
      "\n",
      "CPU model: Intel(R) Core(TM) i5-6300U CPU @ 2.40GHz, instruction set [SSE2|AVX|AVX2]\n",
      "Thread count: 2 physical cores, 4 logical processors, using up to 4 threads\n",
      "\n",
      "Optimize a model with 603 rows, 80 columns and 1262 nonzeros\n",
      "Model fingerprint: 0xf784544b\n",
      "Variable types: 0 continuous, 80 integer (80 binary)\n",
      "Coefficient statistics:\n",
      "  Matrix range     [1e+00, 4e+00]\n",
      "  Objective range  [1e+00, 5e+00]\n",
      "  Bounds range     [1e+00, 1e+00]\n",
      "  RHS range        [1e+00, 2e+01]\n",
      "Found heuristic solution: objective -13.9000000\n",
      "Presolve removed 584 rows and 53 columns\n",
      "Presolve time: 0.02s\n",
      "Presolved: 19 rows, 27 columns, 80 nonzeros\n",
      "Found heuristic solution: objective -18.7000000\n",
      "Variable types: 0 continuous, 27 integer (27 binary)\n",
      "\n",
      "Root relaxation: objective -2.230000e+01, 15 iterations, 0.01 seconds (0.00 work units)\n",
      "\n",
      "    Nodes    |    Current Node    |     Objective Bounds      |     Work\n",
      " Expl Unexpl |  Obj  Depth IntInf | Incumbent    BestBd   Gap | It/Node Time\n",
      "\n",
      "     0     0  -22.30000    0    8  -18.70000  -22.30000  19.3%     -    0s\n",
      "H    0     0                     -21.9000000  -22.30000  1.83%     -    0s\n",
      "\n",
      "Explored 1 nodes (15 simplex iterations) in 0.11 seconds (0.00 work units)\n",
      "Thread count was 4 (of 4 available processors)\n",
      "\n",
      "Solution count 3: -21.9 -18.7 -13.9 \n",
      "No other solutions better than -21.9\n",
      "\n",
      "Optimal solution found (tolerance 1.00e-04)\n",
      "Best objective -2.190000000000e+01, best bound -2.190000000000e+01, gap 0.0000%\n",
      "-------------------------------------------------------------------------------\n",
      "                                    Summary                                    \n",
      "-------------------------------------------------------------------------------\n",
      "(CVXPY) Nov 29 06:02:31 PM: Problem status: optimal\n",
      "(CVXPY) Nov 29 06:02:31 PM: Optimal value: 2.190e+01\n",
      "(CVXPY) Nov 29 06:02:31 PM: Compilation took 4.322e-01 seconds\n",
      "(CVXPY) Nov 29 06:02:31 PM: Solver (including time spent in interface) took 2.008e-01 seconds\n",
      "obj_func =\n",
      "21.9\n",
      "X =\n",
      "[[1. 0. 0. 0. 0. 0. 0. 0.]\n",
      " [1. 0. 0. 1. 0. 0. 0. 0.]\n",
      " [0. 0. 0. 0. 0. 0. 0. 1.]\n",
      " [0. 0. 0. 0. 0. 0. 0. 0.]\n",
      " [0. 0. 0. 0. 0. 0. 0. 0.]\n",
      " [0. 0. 0. 0. 0. 0. 0. 0.]\n",
      " [1. 0. 0. 0. 0. 0. 0. 0.]\n",
      " [0. 0. 0. 0. 0. 0. 0. 0.]\n",
      " [0. 0. 0. 0. 0. 0. 0. 0.]\n",
      " [0. 1. 0. 0. 0. 0. 0. 0.]]\n"
     ]
    }
   ],
   "source": [
    "problem = cp.Problem(cp.Maximize(obj_func), constraints)\n",
    "\n",
    "problem.solve(solver=cp.GUROBI, verbose = True)\n",
    "\n",
    "print(\"obj_func =\")\n",
    "print(obj_func.value)\n",
    "print(\"X =\")\n",
    "print(np.round(X.value))"
   ]
  },
  {
   "cell_type": "markdown",
   "metadata": {},
   "source": [
    "### Result"
   ]
  },
  {
   "cell_type": "code",
   "execution_count": 19,
   "metadata": {},
   "outputs": [],
   "source": [
    "course_indices = np.where(X.value == 1)"
   ]
  },
  {
   "cell_type": "code",
   "execution_count": 39,
   "metadata": {},
   "outputs": [],
   "source": [
    "course_indices = np.where(X.value == 1)\n",
    "\n",
    "course_selection = []\n",
    "for i in range(len(course_indices[0])):\n",
    "    course_selection.append(get_course_section_map.get((course_indices[0][i], course_indices[1][i])))\n",
    "    \n",
    "section_selection = [item[1] for item in course_selection]\n",
    "optimized_courses = data[data['Course Section'].isin(section_selection)]"
   ]
  },
  {
   "cell_type": "code",
   "execution_count": 40,
   "metadata": {},
   "outputs": [
    {
     "data": {
      "text/html": [
       "<div>\n",
       "<style scoped>\n",
       "    .dataframe tbody tr th:only-of-type {\n",
       "        vertical-align: middle;\n",
       "    }\n",
       "\n",
       "    .dataframe tbody tr th {\n",
       "        vertical-align: top;\n",
       "    }\n",
       "\n",
       "    .dataframe thead th {\n",
       "        text-align: right;\n",
       "    }\n",
       "</style>\n",
       "<table border=\"1\" class=\"dataframe\">\n",
       "  <thead>\n",
       "    <tr style=\"text-align: right;\">\n",
       "      <th></th>\n",
       "      <th>Course Name</th>\n",
       "      <th>Course Section</th>\n",
       "      <th>Days</th>\n",
       "      <th>Start Time</th>\n",
       "      <th>End Time</th>\n",
       "      <th>Instructor</th>\n",
       "      <th>Instructor Rating</th>\n",
       "      <th>Unit</th>\n",
       "      <th>Is GE 2nd Level Writing?</th>\n",
       "      <th>Is GE Cultures and Ideas?</th>\n",
       "    </tr>\n",
       "  </thead>\n",
       "  <tbody>\n",
       "    <tr>\n",
       "      <th>0</th>\n",
       "      <td>MATH 2568</td>\n",
       "      <td>27178.0</td>\n",
       "      <td>MoWeFr</td>\n",
       "      <td>8:00:00 AM</td>\n",
       "      <td>8:55:00 AM</td>\n",
       "      <td>Esteban Vargas Bernal</td>\n",
       "      <td>4.6</td>\n",
       "      <td>3.0</td>\n",
       "      <td>False</td>\n",
       "      <td>False</td>\n",
       "    </tr>\n",
       "    <tr>\n",
       "      <th>6</th>\n",
       "      <td>STAT 3202</td>\n",
       "      <td>27866.0</td>\n",
       "      <td>TuTh</td>\n",
       "      <td>9:35:00 AM</td>\n",
       "      <td>10:55:00 AM</td>\n",
       "      <td>Sanjeewani Weerasingha</td>\n",
       "      <td>3.2</td>\n",
       "      <td>4.0</td>\n",
       "      <td>False</td>\n",
       "      <td>False</td>\n",
       "    </tr>\n",
       "    <tr>\n",
       "      <th>9</th>\n",
       "      <td>STAT 3202</td>\n",
       "      <td>29400.0</td>\n",
       "      <td>Mo</td>\n",
       "      <td>12:40:00 PM</td>\n",
       "      <td>1:35:00 PM</td>\n",
       "      <td>Alan Gan</td>\n",
       "      <td>NaN</td>\n",
       "      <td>0.0</td>\n",
       "      <td>False</td>\n",
       "      <td>False</td>\n",
       "    </tr>\n",
       "    <tr>\n",
       "      <th>21</th>\n",
       "      <td>CSE 2421</td>\n",
       "      <td>36975.0</td>\n",
       "      <td>TuWeThFr</td>\n",
       "      <td>11:30:00 AM</td>\n",
       "      <td>12:25:00 PM</td>\n",
       "      <td>Neil Kirby</td>\n",
       "      <td>4.1</td>\n",
       "      <td>4.0</td>\n",
       "      <td>False</td>\n",
       "      <td>NaN</td>\n",
       "    </tr>\n",
       "    <tr>\n",
       "      <th>30</th>\n",
       "      <td>ENGR 2367</td>\n",
       "      <td>8154.0</td>\n",
       "      <td>TuTh</td>\n",
       "      <td>3:55:00 PM</td>\n",
       "      <td>5:15:00 PM</td>\n",
       "      <td>Angie Burks</td>\n",
       "      <td>5.0</td>\n",
       "      <td>3.0</td>\n",
       "      <td>True</td>\n",
       "      <td>False</td>\n",
       "    </tr>\n",
       "    <tr>\n",
       "      <th>38</th>\n",
       "      <td>ANTHR 1100</td>\n",
       "      <td>20.0</td>\n",
       "      <td>TuTh</td>\n",
       "      <td>2:20:00 PM</td>\n",
       "      <td>3:40:00 PM</td>\n",
       "      <td>Jeffrey Peterson</td>\n",
       "      <td>5.0</td>\n",
       "      <td>3.0</td>\n",
       "      <td>False</td>\n",
       "      <td>True</td>\n",
       "    </tr>\n",
       "  </tbody>\n",
       "</table>\n",
       "</div>"
      ],
      "text/plain": [
       "   Course Name  Course Section      Days   Start Time     End Time  \\\n",
       "0    MATH 2568         27178.0    MoWeFr   8:00:00 AM   8:55:00 AM   \n",
       "6    STAT 3202         27866.0      TuTh   9:35:00 AM  10:55:00 AM   \n",
       "9    STAT 3202         29400.0        Mo  12:40:00 PM   1:35:00 PM   \n",
       "21    CSE 2421         36975.0  TuWeThFr  11:30:00 AM  12:25:00 PM   \n",
       "30   ENGR 2367          8154.0      TuTh   3:55:00 PM   5:15:00 PM   \n",
       "38  ANTHR 1100            20.0      TuTh   2:20:00 PM   3:40:00 PM   \n",
       "\n",
       "                Instructor  Instructor Rating  Unit Is GE 2nd Level Writing?  \\\n",
       "0    Esteban Vargas Bernal                4.6   3.0                    False   \n",
       "6   Sanjeewani Weerasingha                3.2   4.0                    False   \n",
       "9                 Alan Gan                NaN   0.0                    False   \n",
       "21              Neil Kirby                4.1   4.0                    False   \n",
       "30             Angie Burks                5.0   3.0                     True   \n",
       "38        Jeffrey Peterson                5.0   3.0                    False   \n",
       "\n",
       "   Is GE Cultures and Ideas?  \n",
       "0                      False  \n",
       "6                      False  \n",
       "9                      False  \n",
       "21                       NaN  \n",
       "30                     False  \n",
       "38                      True  "
      ]
     },
     "execution_count": 40,
     "metadata": {},
     "output_type": "execute_result"
    }
   ],
   "source": [
    "optimized_courses"
   ]
  }
 ],
 "metadata": {
  "colab": {
   "provenance": []
  },
  "kernelspec": {
   "display_name": "Python 3",
   "language": "python",
   "name": "python3"
  },
  "language_info": {
   "codemirror_mode": {
    "name": "ipython",
    "version": 3
   },
   "file_extension": ".py",
   "mimetype": "text/x-python",
   "name": "python",
   "nbconvert_exporter": "python",
   "pygments_lexer": "ipython3",
   "version": "3.8.5"
  }
 },
 "nbformat": 4,
 "nbformat_minor": 1
}
